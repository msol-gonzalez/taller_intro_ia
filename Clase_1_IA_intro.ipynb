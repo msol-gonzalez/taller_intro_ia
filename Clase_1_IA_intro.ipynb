{
  "cells": [
    {
      "cell_type": "markdown",
      "metadata": {
        "id": "2F18f75K0RXd"
      },
      "source": [
        "# Capacitación Semillero DISW: Curso Python\n",
        "# Clase 1\n",
        "\n"
      ]
    },
    {
      "cell_type": "markdown",
      "metadata": {
        "id": "5o4r9UTv2hlh"
      },
      "source": [
        "## Ejercicios \n",
        "\n",
        "\n"
      ]
    },
    {
      "cell_type": "markdown",
      "metadata": {
        "id": "-FxIKiWM2j0V"
      },
      "source": [
        "### Ejercicio 1\n",
        "Crear un programa que pida al usuario que ingrese su nombre y edad, y luego muestre por pantalla un mensaje que diga \"<nombre> cumplirá 100 años en <año>. \" "
      ]
    },
    {
      "cell_type": "code",
      "source": [
        "def hasta100(age, name):\n",
        "  age_final = 100 - age\n",
        "  print (\"Hola\", name, \"cumplirá 100 años en\", age_final, \"años\")"
      ],
      "metadata": {
        "id": "TCyiiqtOKerW"
      },
      "execution_count": null,
      "outputs": []
    },
    {
      "cell_type": "code",
      "execution_count": null,
      "metadata": {
        "id": "1_iepk4X0PSe",
        "colab": {
          "base_uri": "https://localhost:8080/"
        },
        "outputId": "84371886-c844-46f7-c125-02b510c9cd00"
      },
      "outputs": [
        {
          "output_type": "stream",
          "name": "stdout",
          "text": [
            "¿Cuál es tu nombre?: Sol\n",
            "¿Cuátos años tenes?: 27\n",
            "Hola Sol cumplirá 100 años en 73\n"
          ]
        }
      ],
      "source": [
        "name = input(\"¿Cuál es tu nombre?: \")\n",
        "age = int(input(\"¿Cuátos años tenes?: \"))\n",
        "# TODO: impresión por pantalla.\n",
        "hasta100(age, name)"
      ]
    },
    {
      "cell_type": "markdown",
      "metadata": {
        "id": "CELk9RRf2XbO"
      },
      "source": [
        "### Ejercicio 2\n",
        "Dada una lista, pedir al usuario que ingrese un valor umbral y devolver todos los valores de la lista menores al elegido por el usuario. "
      ]
    },
    {
      "cell_type": "code",
      "execution_count": null,
      "metadata": {
        "id": "VduEFfb72KOW",
        "colab": {
          "base_uri": "https://localhost:8080/"
        },
        "outputId": "28df26d9-9313-4af0-d3f7-f11e78be8396"
      },
      "outputs": [
        {
          "output_type": "stream",
          "name": "stdout",
          "text": [
            "Ingresa un valor umbral: 53\n",
            "52\n",
            "10\n",
            "2\n",
            "3\n",
            "6\n",
            "7\n",
            "-2\n",
            "5\n",
            "8\n"
          ]
        }
      ],
      "source": [
        "umbral = int(input(\"Ingresa un valor umbral: \"))  # TODO\n",
        "lista = [52,10,2,3,6,7,-2,5,8]\n",
        "# TODO mostrar todos los valores de lisa por debajo de umbral.\n",
        "for x in lista:\n",
        "  if x <= umbral:\n",
        "    print(x)"
      ]
    },
    {
      "cell_type": "markdown",
      "source": [
        ""
      ],
      "metadata": {
        "id": "VxC1Hk7RLAyU"
      }
    },
    {
      "cell_type": "markdown",
      "metadata": {
        "id": "Ty41DiXBDpjg"
      },
      "source": [
        "### Ejercicio 3 \n",
        "Dadas dos listas, por ejemplo:\n",
        "\n",
        "  a = [1, 1, 2, 3, 5, 8, 13, 21, 34, 55, 89]\n",
        "  b = [1, 2, 3, 4, 5, 6, 7, 8, 9, 10, 11, 12, 13]\n",
        "\n",
        "escribir un programa que devuelva una lista que contenga únicamente los valores comunes entre ambdas listas. "
      ]
    },
    {
      "cell_type": "code",
      "source": [
        "def dif_list (a, b):\n",
        "  list_common = [element for element in a if element in b]\n",
        "  return list(set(list_common)) #forma de obtener listas unicas\n",
        "\n",
        "\n",
        "\n",
        "a = [1, 1, 2, 3, 5, 8, 13, 21, 34, 55, 89]\n",
        "b = [1, 2, 3, 4, 5, 6, 7, 8, 9, 10, 11, 12, 13]\n",
        "\n",
        "print (dif_list(a,b))"
      ],
      "metadata": {
        "colab": {
          "base_uri": "https://localhost:8080/"
        },
        "id": "QasmY0lWMEX4",
        "outputId": "df30b5d5-4827-4eaa-a4e8-bce8a108d827"
      },
      "execution_count": null,
      "outputs": [
        {
          "output_type": "stream",
          "name": "stdout",
          "text": [
            "[1, 2, 3, 5, 8, 13]\n"
          ]
        }
      ]
    },
    {
      "cell_type": "code",
      "source": [
        "a = [1, 1, 2, 3, 5, 8, 13, 21, 34, 55, 89]\n",
        "b = [1, 2, 3, 4, 5, 6, 7, 8, 9, 10, 11, 12, 13]\n",
        "print(set(a) & set(b)) #forma de obtener listas unicas"
      ],
      "metadata": {
        "colab": {
          "base_uri": "https://localhost:8080/"
        },
        "id": "-vsIDgmwexyA",
        "outputId": "f841610e-79d8-4119-e08f-d7905b82fb4c"
      },
      "execution_count": null,
      "outputs": [
        {
          "output_type": "stream",
          "name": "stdout",
          "text": [
            "{1, 2, 3, 5, 8, 13}\n"
          ]
        }
      ]
    },
    {
      "cell_type": "markdown",
      "metadata": {
        "id": "OIlzOrIY4UUJ"
      },
      "source": [
        "### Ejercicio 4\n",
        "Concatenar lo siguientes 3 diccionarios para crear uno nuevo:\n",
        "\n",
        "dict1 = {1:10,2:20,3:30}\n",
        "\n",
        "dict2 = {3:30, 4:40}\n",
        "\n",
        "dict3 = {5:50}"
      ]
    },
    {
      "cell_type": "code",
      "source": [
        "dict1 = {1:10,2:20,3:30}\n",
        "\n",
        "dict2 = {3:30, 4:40}\n",
        "\n",
        "dict3 = {5:50}\n",
        "\n",
        "\n",
        "# Añade los elementos de un diccionario a otro\n",
        "dict4 = {**dict1, **dict2, **dict3}\n",
        "dict4.keys()\n"
      ],
      "metadata": {
        "colab": {
          "base_uri": "https://localhost:8080/"
        },
        "id": "dupGzUhDP2IK",
        "outputId": "e1d25e96-5313-48dd-99e8-487db99e7b8c"
      },
      "execution_count": null,
      "outputs": [
        {
          "output_type": "execute_result",
          "data": {
            "text/plain": [
              "dict_keys([1, 2, 3, 4, 5])"
            ]
          },
          "metadata": {},
          "execution_count": 29
        }
      ]
    },
    {
      "cell_type": "markdown",
      "metadata": {
        "id": "rT5_aANJ7Jwc"
      },
      "source": [
        "### Ejercicio 5\n",
        "A partir del diccionario creado en el ejercicio 4, crear un iterador que barra los pares (*key*, *value*). Imprimir por pantalla ambos valores."
      ]
    },
    {
      "cell_type": "code",
      "source": [
        "dict4_copy = dict4 \n",
        "for key in dict4_copy:\n",
        "    if ((int(key))%2 ==0):\n",
        "      print ( key, \":\", dict4_copy[key])"
      ],
      "metadata": {
        "colab": {
          "base_uri": "https://localhost:8080/"
        },
        "id": "LPvmVD3vXOsK",
        "outputId": "68197696-73aa-4627-aef1-8ac4980e49cb"
      },
      "execution_count": null,
      "outputs": [
        {
          "output_type": "stream",
          "name": "stdout",
          "text": [
            "2 : 20\n",
            "4 : 40\n"
          ]
        }
      ]
    },
    {
      "cell_type": "markdown",
      "metadata": {
        "id": "pGoXCEcY8TV7"
      },
      "source": [
        "### Ejercicio 6\n",
        "Escribir un script que dados dos diccionarios, los unifique en uno sólo, obteniendo la suma de los valores para los *keys* repetidos.\n",
        "\n",
        "dict1 = {'a':1, 'b':5, 'c': 10}\n",
        "\n",
        "dict2 = {'a':2, 'c': 1, 'd':3} "
      ]
    },
    {
      "cell_type": "code",
      "source": [
        "#Ejercicio con libreria collections\n",
        "from collections import Counter\n",
        "\n",
        "def join_dict_library(dict1, dict2):\n",
        "  resultado = Counter(dict1) + Counter(dict2)\n",
        "  return resultado"
      ],
      "metadata": {
        "id": "goMh9o-oak95"
      },
      "execution_count": null,
      "outputs": []
    },
    {
      "cell_type": "code",
      "source": [
        "#Ejercicio sin libreria \n",
        "\n",
        "def join_dict(dict1, dict2):\n",
        "  dic_final = {}\n",
        "  for key1 in dict1:\n",
        "    for key2 in dict2:\n",
        "      if key1 in dict2:\n",
        "         dic_final [key1] = dict1[key1] + dict2 [key1]\n",
        "      if not key2 in dict1:\n",
        "        dic_final [key2] = dict2 [key2]\n",
        "      else:\n",
        "        dic_final [key1] = dict1 [key1]\n",
        "  return dic_final"
      ],
      "metadata": {
        "id": "sjIBI0X3eWsA"
      },
      "execution_count": null,
      "outputs": []
    },
    {
      "cell_type": "code",
      "source": [
        "print (\"-Ejercicio con librería-\")\n",
        "dict1 = {'a':1, 'b':5, 'c': 10}\n",
        "dict2 = {'a':2, 'c': 1, 'd':3}\n",
        "\n",
        "result = join_dict_library(dict1, dict2)\n",
        "result "
      ],
      "metadata": {
        "colab": {
          "base_uri": "https://localhost:8080/"
        },
        "id": "OrryNbCba5-Z",
        "outputId": "af9c8161-1995-408b-db9f-cc4e2239573f"
      },
      "execution_count": null,
      "outputs": [
        {
          "output_type": "stream",
          "name": "stdout",
          "text": [
            "-Ejercicio con librería-\n"
          ]
        },
        {
          "output_type": "execute_result",
          "data": {
            "text/plain": [
              "Counter({'a': 3, 'b': 5, 'c': 11, 'd': 3})"
            ]
          },
          "metadata": {},
          "execution_count": 71
        }
      ]
    },
    {
      "cell_type": "code",
      "source": [
        "%timeit [join_dict_library(dict1, dict2)]"
      ],
      "metadata": {
        "colab": {
          "base_uri": "https://localhost:8080/"
        },
        "id": "Jrrd0wTKmh1A",
        "outputId": "5eb02c0c-f7fb-43a3-9c48-7b48ce80acb3"
      },
      "execution_count": null,
      "outputs": [
        {
          "output_type": "stream",
          "name": "stdout",
          "text": [
            "The slowest run took 5.83 times longer than the fastest. This could mean that an intermediate result is being cached.\n",
            "100000 loops, best of 5: 9.18 µs per loop\n"
          ]
        }
      ]
    },
    {
      "cell_type": "code",
      "source": [
        "print  (\"- Ejercicio SIN librería - \")\n",
        "\n",
        "dict1 = {'a':1, 'b':5, 'c': 10}\n",
        "dict2 = {'a':2, 'c': 1, 'd':3}\n",
        "\n",
        "result = join_dict(dict1, dict2)\n",
        "result"
      ],
      "metadata": {
        "colab": {
          "base_uri": "https://localhost:8080/"
        },
        "id": "3IAlPX_uf0x6",
        "outputId": "25c31a5d-0ecd-4da8-bd8d-38d5f8a321e4"
      },
      "execution_count": null,
      "outputs": [
        {
          "output_type": "stream",
          "name": "stdout",
          "text": [
            "- Ejercicio SIN librería - \n"
          ]
        },
        {
          "output_type": "execute_result",
          "data": {
            "text/plain": [
              "{'a': 3, 'b': 5, 'c': 11, 'd': 3}"
            ]
          },
          "metadata": {},
          "execution_count": 67
        }
      ]
    },
    {
      "cell_type": "code",
      "source": [
        "%timeit [join_dict(dict1, dict2)]\n"
      ],
      "metadata": {
        "colab": {
          "base_uri": "https://localhost:8080/"
        },
        "id": "xvPtwid4mRr0",
        "outputId": "82c1bf08-0b5a-4f0b-8367-21e26c6a8759"
      },
      "execution_count": null,
      "outputs": [
        {
          "output_type": "stream",
          "name": "stdout",
          "text": [
            "100000 loops, best of 5: 2.69 µs per loop\n"
          ]
        }
      ]
    },
    {
      "cell_type": "markdown",
      "source": [
        "***Entiendo que el algoritmo manual es más eficienciente en base al tiempo utilizado 2.69 per loop, mientras en donde utilizo la librería 9.18 per loop***"
      ],
      "metadata": {
        "id": "PFnyjVddm57S"
      }
    },
    {
      "cell_type": "markdown",
      "metadata": {
        "id": "Ylu5sWkj3b6p"
      },
      "source": [
        "### Ejercicio 7\n",
        "Implemenar un juego de *piedra papel o tijera* para dos jugarodres. Pedir a los usuarios en que ingresen su jugada. \n",
        "Las reglas son:\n",
        "- Piedra le gana a tijera\n",
        "- Papel le gana a piedra\n",
        "- Tijera le gana a papel\n",
        "- El juego termina cuando gana alguno de los dos jugadores"
      ]
    },
    {
      "cell_type": "markdown",
      "source": [
        "# New Section"
      ],
      "metadata": {
        "id": "L8gNl3NbgRoX"
      }
    },
    {
      "cell_type": "code",
      "source": [
        "import pandas as pd\n",
        "\n",
        "\n",
        "def juego ():\n",
        "  print (\"Warning! Ingrese todo en minusculas!: \")\n",
        "  jugador_1 = input(\"¿piedra , papel o tijera: \")\n",
        "  jugador_2 = input(\"piedra, papel o tijera: \")\n",
        "\n",
        "  # Leo todas las combinaciones posibles (arme un csv)\n",
        "  df = pd.read_csv (\"juego_ppt.csv\",sep=';',) \n",
        "  res = df [(df.jugador1 == jugador_1 ) & (df.jugador2 == jugador_2)]\n",
        "  print (\"el jugador ganador es: \", res.resultado.values[0])\n",
        "\n",
        "juego()"
      ],
      "metadata": {
        "id": "pN4A4RUJci4P",
        "colab": {
          "base_uri": "https://localhost:8080/"
        },
        "outputId": "5d9f17d1-9445-42b8-856b-0a37124c6673"
      },
      "execution_count": null,
      "outputs": [
        {
          "output_type": "stream",
          "name": "stdout",
          "text": [
            "Warning! Ingrese todo en minusculas!: \n",
            "¿piedra , papel o tijera: tijera\n",
            "piedra, papel o tijera: papel\n",
            "el jugador ganador es:  jugador1\n"
          ]
        }
      ]
    },
    {
      "cell_type": "markdown",
      "metadata": {
        "id": "FD57njwDFdTl"
      },
      "source": [
        "### Ejercicio 8\n",
        "\n",
        "Implementar el juego \"ahorcado\". Para ello el jugador 1 ingresa una palabra. Luego el jugador 2 debe ir adivinando las letras que lo componen. \n",
        "Escribir una función que maneje el desarrollo del juego, que tome como entrada la palabra elegida por el jugador 1. El juego termina cuando el jugador 2 acierta la palabra o usa una cantidad de intentos mayor a 15. "
      ]
    },
    {
      "cell_type": "code",
      "source": [
        "#TODO!\n"
      ],
      "metadata": {
        "id": "1X6WtYfqS0ZT"
      },
      "execution_count": 1,
      "outputs": []
    },
    {
      "cell_type": "markdown",
      "metadata": {
        "id": "Tbzci-QrGfbg"
      },
      "source": [
        "### Ejercicio 9\n",
        "El objetivo es crear una *aplicación* que permita manejar el presupuesto y gastos de una persona. Para ello vamos a usar un enfoque de programación orientada a objeto. \n",
        "\n",
        "Crear un clase `Categoría`. Debería permitir instanciar distintas categorías del presupuesto, como alimentos, vestimenta, entretenimiento. La clase debe incluir un atributo `contabilidad` que sea de tipo lista. Además la clase deberá contener los siguientes métodos:\n",
        " - `deposito`: recibe un monto y una descripción. Si no se da ninguna descripción por defecto debe completarse con un string vacío. Además debe agregar a la lista `contabilidad` un objeto de la forma `{'cantidad': cantidad, 'descripcion':descripcion}`\n",
        " - `extraccion`: similar a depósito. Si no hay fondos suficientes, no se debe ejecutar la operación, y no debe agregarse nada a  `contabilidad`. En caso de haber fondos suficientes, el objeto a agregar a `contabilidad` debe contemplar el monto con signo negativo (egreso). El método debería devolver `True` si se ejecutó la operación `False` si no.\n",
        " - `obtener_balance`: devuelve el balance actual de la categoría basado en los depósitos y extracciones que se hayan producido.\n",
        " - `transferencia`: acepta un monto y el nombre de otra categoría del presupuesto como argumentos. Este método transfiere plata de una categoría a la otra. Se debe represetar con una `extracción` y un `depósito` en las catergorías que corresponda, con la descripción \"Transf. a Categoría destinp\" y \"Trans. de Categoría destino\". Nuevamente si no alcanzan los fondos no se ejecuta la operación y devuelve `False`, en caso contrario devuelve `True`. \n",
        " - `verificar_fondos`:  acepta como argumento un mnonto. Devuelve `True` si se dispone de fondos suficientes (si el balance de la categoría es mayor al monto ingresado), `False` en caso contrario. Debería ser utilizado por los metodos `transferencia` y `extracción`. \n",
        "\n",
        "Cuando se imprime el objeto `presupuesto` debería mostrar:\n",
        "\n",
        "  Un titulo de 30 caracteres con el nombre de la categoría centrado entre *. \n",
        "\n",
        "  Una lista de los items en la contabilidad. Cada línea debe mosrar los primeros 20 caracteres de la descripción y luego el monto, con dos decimales. \n",
        "\n",
        "  Una línea mostrando el total de la categoría\n",
        "\n",
        "Por ejemplo:\n",
        "```\n",
        "*************Alimentos*************\n",
        "deposito inicial        1000.00\n",
        "alimentos               -10.15\n",
        "restaurant y mas com -15.89\n",
        "Transf. a Vestimenta    -50.00\n",
        "Total: 923.96\n",
        "```\n",
        "\n",
        "Además de la clase Categoría, crear una función llamada `crear_tabla_gastos` que tome como argumento una lista de categoría. Debe devolver un *string* que sea un diagrama de barras.\n",
        "\n",
        "La gráfica debe mostrar el porcentage gastado en cada categoría que se le pasa a la función. Dicho porcentaje se calcula únicamente sobre las extracciones. Un ejemplo sería\n",
        "```\n",
        "Porcentaje usado por categoría\n",
        "100|          \n",
        " 90|          \n",
        " 80|          \n",
        " 70|          \n",
        " 60| o        \n",
        " 50| o        \n",
        " 40| o        \n",
        " 30| o        \n",
        " 20| o  o     \n",
        " 10| o  o  o  \n",
        "  0| o  o  o  \n",
        "    ----------\n",
        "     A  V  A  \n",
        "     l  e  u  \n",
        "     i  s  t  \n",
        "     m  t  o\n",
        "     e  i\n",
        "     n  m\n",
        "     t  e\n",
        "     o  n\n",
        "     s  t   \n",
        "        a     \n",
        "``` \n",
        "             \n",
        "             \n",
        "\n"
      ]
    },
    {
      "cell_type": "code",
      "source": [
        "from os import defpath\n",
        "class Categoria:\n",
        "    contabilidad = []\n",
        "    \n",
        "    def __init__(self):\n",
        "        self.contabilidad\n",
        "       \n",
        "    # metodo deposito\n",
        "    def deposito (monto, descripcion):\n",
        "        if (descripcion in contabilidad):\n",
        "            contabilidad [descripcion] = contabilidad[descripcion] + monto\n",
        "\n",
        "        elif (descripcion == \" \"):\n",
        "            vacio = \"\"\n",
        "            contabilidad [\" \"] = monto\n",
        "        else:\n",
        "            contabilidad [descripcion] = monto\n",
        "\n",
        "\n",
        "    # transferencia y extracción.\n",
        "\n",
        "    def verificar_fondos(monto, descripcion):\n",
        "        if ((descripcion in contabilidad) & (contabilidad [descripcion] <= monto)): \n",
        "                contabilidad [descripcion] = contabilidad[descripcion] - monto\n",
        "                return True\n",
        "        else: return False\n",
        "\n",
        "      \n",
        "\n",
        "    # metodo extraccion       \n",
        "    def extraccion(monto, descripcion):\n",
        "        if (Categoria.verificar_fondos(monto,descripcion) == True): \n",
        "                contabilidad [descripcion] = contabilidad[descripcion] - monto\n",
        "                return True\n",
        "        else: return False\n",
        "\n",
        "    # metodo  obtener balance\n",
        "    def obtener_balance(monto, descripcion):\n",
        "        balance = 0\n",
        "        if (descripcion in contabilidad):\n",
        "              balance = contabilidad [descripcion]\n",
        "        else:\n",
        "          print (\"no existe\")\n",
        "\n",
        "    \n",
        "    #con una extracción y un depósito en las catergorías que corresponda, con la descripción \"Transf. a Categoría destinp\" y \"Trans. de Categoría destino\"\n",
        "    def transferencia(monto, descripcion_dest, descripcion_origen):\n",
        "        #if (Categoria.extraccion (monto, descripcion_origen)) == True:\n",
        "        if (Categoria.verificar_fondos(monto, descripcion) == True):\n",
        "            Categoria.deposito(monto, descripcion_dest)\n",
        "            print (\"Transf. a Categoría destino OK\")\n",
        "            return True\n",
        "        else:\n",
        "          print (\"Transf. a Categoría destino incorrecta por falta de fondos\")\n",
        "          return False"
      ],
      "metadata": {
        "id": "04Md1Lz-Ye3M"
      },
      "execution_count": null,
      "outputs": []
    },
    {
      "cell_type": "code",
      "source": [
        "#c1 = Coche('rojo', 20)\n",
        "\n",
        "objeto = Categoria()\n",
        "objeto.contabilidad(\" \", 100)"
      ],
      "metadata": {
        "colab": {
          "base_uri": "https://localhost:8080/",
          "height": 200
        },
        "id": "f1iAXMFWtOJk",
        "outputId": "6613ffef-f980-4942-c374-90beb66e2f4b"
      },
      "execution_count": null,
      "outputs": [
        {
          "output_type": "error",
          "ename": "TypeError",
          "evalue": "ignored",
          "traceback": [
            "\u001b[0;31m---------------------------------------------------------------------------\u001b[0m",
            "\u001b[0;31mTypeError\u001b[0m                                 Traceback (most recent call last)",
            "\u001b[0;32m<ipython-input-125-ff28001ebde0>\u001b[0m in \u001b[0;36m<module>\u001b[0;34m()\u001b[0m\n\u001b[1;32m      2\u001b[0m \u001b[0;34m\u001b[0m\u001b[0m\n\u001b[1;32m      3\u001b[0m \u001b[0mobjeto\u001b[0m \u001b[0;34m=\u001b[0m \u001b[0mCategoria\u001b[0m\u001b[0;34m(\u001b[0m\u001b[0;34m)\u001b[0m\u001b[0;34m\u001b[0m\u001b[0;34m\u001b[0m\u001b[0m\n\u001b[0;32m----> 4\u001b[0;31m \u001b[0mobjeto\u001b[0m\u001b[0;34m.\u001b[0m\u001b[0mcontabilidad\u001b[0m\u001b[0;34m(\u001b[0m\u001b[0;34m\" \"\u001b[0m\u001b[0;34m,\u001b[0m \u001b[0;36m100\u001b[0m\u001b[0;34m)\u001b[0m\u001b[0;34m\u001b[0m\u001b[0;34m\u001b[0m\u001b[0m\n\u001b[0m",
            "\u001b[0;31mTypeError\u001b[0m: 'list' object is not callable"
          ]
        }
      ]
    }
  ],
  "metadata": {
    "colab": {
      "collapsed_sections": [],
      "name": "Clase_1_IA_intro.ipynb",
      "provenance": []
    },
    "kernelspec": {
      "display_name": "Python 3",
      "language": "python",
      "name": "python3"
    },
    "language_info": {
      "codemirror_mode": {
        "name": "ipython",
        "version": 3
      },
      "file_extension": ".py",
      "mimetype": "text/x-python",
      "name": "python",
      "nbconvert_exporter": "python",
      "pygments_lexer": "ipython3",
      "version": "3.8.3"
    }
  },
  "nbformat": 4,
  "nbformat_minor": 0
}